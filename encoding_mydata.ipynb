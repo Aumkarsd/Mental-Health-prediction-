{
  "nbformat": 4,
  "nbformat_minor": 0,
  "metadata": {
    "colab": {
      "provenance": []
    },
    "kernelspec": {
      "name": "python3",
      "display_name": "Python 3"
    },
    "language_info": {
      "name": "python"
    }
  },
  "cells": [
    {
      "cell_type": "code",
      "execution_count": null,
      "metadata": {
        "colab": {
          "base_uri": "https://localhost:8080/"
        },
        "id": "_ZsSCjfVnRwy",
        "outputId": "89576357-0142-4154-e75c-5a4c59b2c6db"
      },
      "outputs": [
        {
          "output_type": "stream",
          "name": "stdout",
          "text": [
            "Mounted at /content/drive\n"
          ]
        }
      ],
      "source": [
        "from google.colab import drive\n",
        "drive.mount('/content/drive')"
      ]
    },
    {
      "cell_type": "code",
      "source": [
        "import pandas as pd\n",
        "\n",
        "# Replace 'input.csv' with your file name\n",
        "input_file_path = '/content/drive/MyDrive/my_data.csv'\n",
        "\n",
        "# Replace 'column_name' with the name of the column you want to analyze\n",
        "column_name = 'Area of Residence'\n",
        "\n",
        "# Read the CSV file into a DataFrame\n",
        "df = pd.read_csv(input_file_path)\n",
        "\n",
        "# Get the unique values in the specified column\n",
        "unique_values = df[column_name].unique()\n",
        "\n",
        "print(f\"The unique values in '{column_name}' column are:\")\n",
        "print(unique_values)\n"
      ],
      "metadata": {
        "colab": {
          "base_uri": "https://localhost:8080/"
        },
        "id": "toFfCNIyqhuB",
        "outputId": "15e86cdb-fee0-4ee2-df6a-27ddcfb05529"
      },
      "execution_count": null,
      "outputs": [
        {
          "output_type": "stream",
          "name": "stdout",
          "text": [
            "The unique values in 'Area of Residence' column are:\n",
            "['United Kingdom' 'United States of America' 'Canada' 'Germany'\n",
            " 'Netherlands' 'Czech Republic' 'Lithuania' 'Australia' 'France'\n",
            " 'Venezuela' 'Poland' 'Belgium' 'Brazil' 'Denmark' 'Sweden' 'Russia'\n",
            " 'Spain' 'India' 'Mexico' 'Switzerland' 'Norway' 'Argentina' 'Ireland'\n",
            " 'Italy' 'Finland' 'Colombia' 'Costa Rica' 'Vietnam' 'Bulgaria'\n",
            " 'New Zealand' 'South Africa' 'Slovakia' 'Austria' 'Bangladesh' 'Algeria'\n",
            " 'Pakistan' 'Afghanistan' 'Greece' 'Romania' 'Other' 'Brunei' 'Japan'\n",
            " 'Iran' 'Hungary' 'Israel' 'Ecuador' 'Bosnia and Herzegovina' 'China'\n",
            " 'Chile' 'Guatemala' 'Taiwan' 'Serbia' 'Estonia' 'Iceland' 'Indonesia'\n",
            " 'Portugal' 'Jordan' 'Croatia' 'Ukraine' 'Singapore' 'Belarus' 'Turkey'\n",
            " 'Latvia' 'not known' 'Mauritius' 'Saudi Arabia' 'Nigeria' 'Kenya'\n",
            " 'Uruguay' 'Ethiopia' 'Macedonia' 'Hong Kong' 'Georgia' 'Ghana' 'Mongolia'\n",
            " 'Cameroon' 'Philippines' 'Sri Lanka' 'Egypt' 'Malaysia' 'Slovenia'\n",
            " 'Albania' 'Sao Tome and Principe']\n"
          ]
        }
      ]
    },
    {
      "cell_type": "code",
      "source": [
        "import pandas as pd\n",
        "\n",
        "# Replace 'input.csv' with your file name\n",
        "input_file_path = '/content/drive/MyDrive/my_data.csv'\n",
        "\n",
        "# Replace 'column_name' with the name of the column you want to analyze\n",
        "column_name = 'Area of Residence'\n",
        "\n",
        "# Read the CSV file into a DataFrame\n",
        "df = pd.read_csv(input_file_path)\n",
        "df[column_name] = df[column_name].str.lower()\n",
        "\n",
        "# Get the count of each unique value in the specified column\n",
        "value_counts = df.groupby(column_name).size().reset_index(name='count')\n",
        "\n",
        "print(f\"The count of each unique value in '{column_name}' column are:\")\n",
        "print(value_counts)\n"
      ],
      "metadata": {
        "colab": {
          "base_uri": "https://localhost:8080/"
        },
        "id": "RcuXnxHksT8m",
        "outputId": "07226144-2804-4496-e2d1-ca11afe38ac4"
      },
      "execution_count": null,
      "outputs": [
        {
          "output_type": "stream",
          "name": "stdout",
          "text": [
            "The count of each unique value in 'Area of Residence' column are:\n",
            "           Area of Residence  count\n",
            "0                afghanistan      3\n",
            "1                    albania      1\n",
            "2                    algeria      2\n",
            "3                  argentina      4\n",
            "4                  australia     58\n",
            "..                       ...    ...\n",
            "78            united kingdom    306\n",
            "79  united states of america   1967\n",
            "80                   uruguay      1\n",
            "81                 venezuela      1\n",
            "82                   vietnam      2\n",
            "\n",
            "[83 rows x 2 columns]\n"
          ]
        }
      ]
    },
    {
      "cell_type": "code",
      "source": [
        "import pandas as pd\n",
        "\n",
        "# Replace 'input.csv' with your file name\n",
        "input_file_path = '/content/drive/MyDrive/my_data.csv'\n",
        "\n",
        "# Replace 'column_name' with the name of the column you want to analyze\n",
        "column_name = 'Area of Work'\n",
        "\n",
        "# Read the CSV file into a DataFrame\n",
        "df = pd.read_csv(input_file_path)\n",
        "df[column_name] = df[column_name].str.lower()\n",
        "\n",
        "# Get the count of each unique value in the specified column\n",
        "value_counts = df.groupby(column_name).size().reset_index(name='count')\n",
        "\n",
        "print(f\"The count of each unique value in '{column_name}' column are:\")\n",
        "print(value_counts)"
      ],
      "metadata": {
        "colab": {
          "base_uri": "https://localhost:8080/"
        },
        "id": "Xi49hNJmtEOu",
        "outputId": "fc2d28b4-4e85-4457-8a81-cb25af389574"
      },
      "execution_count": null,
      "outputs": [
        {
          "output_type": "stream",
          "name": "stdout",
          "text": [
            "The count of each unique value in 'Area of Work' column are:\n",
            "                Area of Work  count\n",
            "0                afghanistan      4\n",
            "1                    albania      1\n",
            "2                    algeria      1\n",
            "3                  argentina      3\n",
            "4                  australia     57\n",
            "..                       ...    ...\n",
            "82            united kingdom    309\n",
            "83  united states of america   1988\n",
            "84                   uruguay      1\n",
            "85                 venezuela      1\n",
            "86                   vietnam      2\n",
            "\n",
            "[87 rows x 2 columns]\n"
          ]
        }
      ]
    },
    {
      "cell_type": "code",
      "source": [
        "import pandas as pd\n",
        "\n",
        "# Replace 'input.csv' with your file name\n",
        "input_file_path = '/content/drive/MyDrive/my_data.csv'\n",
        "\n",
        "# Replace 'column_name' with the name of the column you want to analyze\n",
        "column_name = 'Area of Residence.1'\n",
        "\n",
        "# Read the CSV file into a DataFrame\n",
        "df = pd.read_csv(input_file_path)\n",
        "df[column_name] = df[column_name].str.lower()\n",
        "\n",
        "# Get the count of each unique value in the specified column\n",
        "value_counts = df.groupby(column_name).size().reset_index(name='count')\n",
        "\n",
        "print(f\"The count of each unique value in '{column_name}' column are:\")\n",
        "print(value_counts)"
      ],
      "metadata": {
        "colab": {
          "base_uri": "https://localhost:8080/"
        },
        "id": "xWA3vU-a4eKL",
        "outputId": "3f62e990-7cbc-44c9-e772-da7bdc4b0308"
      },
      "execution_count": null,
      "outputs": [
        {
          "output_type": "stream",
          "name": "stdout",
          "text": [
            "The count of each unique value in 'Area of Residence.1' column are:\n",
            "         Area of Residence.1  count\n",
            "0                afghanistan      3\n",
            "1                    albania      1\n",
            "2                    algeria      2\n",
            "3                  argentina      4\n",
            "4                  australia     58\n",
            "..                       ...    ...\n",
            "77            united kingdom    306\n",
            "78  united states of america   1967\n",
            "79                   uruguay      1\n",
            "80                 venezuela      1\n",
            "81                   vietnam      2\n",
            "\n",
            "[82 rows x 2 columns]\n"
          ]
        }
      ]
    },
    {
      "cell_type": "code",
      "source": [
        "import pandas as pd\n",
        "\n",
        "# Replace 'input.csv' with your file name\n",
        "input_file_path = '/content/drive/MyDrive/my_data.csv'\n",
        "\n",
        "# Replace 'column_name' with the name of the column you want to analyze\n",
        "column_name = 'Area of Work.1'\n",
        "\n",
        "# Read the CSV file into a DataFrame\n",
        "df = pd.read_csv(input_file_path)\n",
        "df[column_name] = df[column_name].str.lower()\n",
        "\n",
        "# Get the count of each unique value in the specified column\n",
        "value_counts = df.groupby(column_name).size().reset_index(name='count')\n",
        "\n",
        "print(f\"The count of each unique value in '{column_name}' column are:\")\n",
        "print(value_counts)"
      ],
      "metadata": {
        "colab": {
          "base_uri": "https://localhost:8080/"
        },
        "id": "nRiZGwbaJYNZ",
        "outputId": "eddffd87-ddc6-402b-c948-03a8c129dd35"
      },
      "execution_count": null,
      "outputs": [
        {
          "output_type": "stream",
          "name": "stdout",
          "text": [
            "The count of each unique value in 'Area of Work.1' column are:\n",
            "              Area of Work.1  count\n",
            "0                afghanistan      4\n",
            "1                    albania      1\n",
            "2                    algeria      1\n",
            "3                  argentina      3\n",
            "4                  australia     57\n",
            "..                       ...    ...\n",
            "81            united kingdom    309\n",
            "82  united states of america   1988\n",
            "83                   uruguay      1\n",
            "84                 venezuela      1\n",
            "85                   vietnam      2\n",
            "\n",
            "[86 rows x 2 columns]\n"
          ]
        }
      ]
    },
    {
      "cell_type": "code",
      "source": [
        "import pandas as pd\n",
        "input_file_path = '/content/drive/MyDrive/my_data.csv'\n",
        "df = pd.read_csv(input_file_path)\n",
        "df.loc[0, 'Area of Work']"
      ],
      "metadata": {
        "colab": {
          "base_uri": "https://localhost:8080/",
          "height": 36
        },
        "id": "oXMSfP_WLorl",
        "outputId": "68be8d51-af97-49cf-f730-c91c9166d70b"
      },
      "execution_count": null,
      "outputs": [
        {
          "output_type": "execute_result",
          "data": {
            "text/plain": [
              "'United Kingdom'"
            ],
            "application/vnd.google.colaboratory.intrinsic+json": {
              "type": "string"
            }
          },
          "metadata": {},
          "execution_count": 14
        }
      ]
    },
    {
      "cell_type": "code",
      "source": [
        "import pandas as pd\n",
        "input_file_path = '/content/drive/MyDrive/my_data.csv'\n",
        "c1='Area of Work.1'\n",
        "c2='Area of Work'\n",
        "df = pd.read_csv(input_file_path)\n",
        "for i in range(3269):\n",
        "  if(df.loc[i,c2]=='not known'):\n",
        "    continue\n",
        "  elif(df.loc[i,c1]!=df.loc[i,c2]):\n",
        "    print(\"wrong\")\n",
        "    print(df.loc[i,c1])\n",
        "    break\n",
        "else:\n",
        "  print(\"ok\")\n",
        "\n",
        "\n"
      ],
      "metadata": {
        "colab": {
          "base_uri": "https://localhost:8080/"
        },
        "id": "YJGcgp2KLRSF",
        "outputId": "b9debb74-e422-4819-c18f-dd6394303331"
      },
      "execution_count": null,
      "outputs": [
        {
          "output_type": "stream",
          "name": "stdout",
          "text": [
            "ok\n"
          ]
        }
      ]
    },
    {
      "cell_type": "code",
      "source": [
        "import pandas as pd\n",
        "input_file_path = '/content/drive/MyDrive/my_data.csv'\n",
        "c1='Area of Residence.1'\n",
        "c2='Area of Residence'\n",
        "df = pd.read_csv(input_file_path)\n",
        "for i in range(3269):\n",
        "  if(df.loc[i,c2]=='not known'):\n",
        "    continue\n",
        "  elif(df.loc[i,c1]!=df.loc[i,c2]):\n",
        "    print(\"wrong\")\n",
        "    print(df.loc[i,c1])\n",
        "    break\n",
        "else:\n",
        "  print(\"ok\")"
      ],
      "metadata": {
        "colab": {
          "base_uri": "https://localhost:8080/"
        },
        "id": "bAXA8y-LPXuB",
        "outputId": "52e62ebb-123e-4c7e-8854-c74b10fc86ba"
      },
      "execution_count": null,
      "outputs": [
        {
          "output_type": "stream",
          "name": "stdout",
          "text": [
            "ok\n"
          ]
        }
      ]
    },
    {
      "cell_type": "code",
      "source": [
        "import pandas as pd\n",
        "\n",
        "# Replace 'input.csv' with your file name\n",
        "input_file_path = '/content/drive/MyDrive/my_data.csv'\n",
        "\n",
        "# Replace 'column_name' with the name of the column you want to update\n",
        "column_name = 'Area of Residence'\n",
        "\n",
        "# Read the CSV file into a DataFrame\n",
        "df = pd.read_csv(input_file_path)\n",
        "\n",
        "# Get the unique values in the specified column\n",
        "unique_values_res = df[column_name].unique()\n",
        "len(unique_values_res)"
      ],
      "metadata": {
        "colab": {
          "base_uri": "https://localhost:8080/"
        },
        "id": "ozoFXDf-TM9r",
        "outputId": "8b21145a-245e-4f35-b38a-8870532299f0"
      },
      "execution_count": null,
      "outputs": [
        {
          "output_type": "execute_result",
          "data": {
            "text/plain": [
              "83"
            ]
          },
          "metadata": {},
          "execution_count": 23
        }
      ]
    },
    {
      "cell_type": "code",
      "source": [
        "import pandas as pd\n",
        "\n",
        "# Replace 'input.csv' with your file name\n",
        "input_file_path = '/content/drive/MyDrive/my_data.csv'\n",
        "\n",
        "# Replace 'column_name' with the name of the column you want to update\n",
        "column_name = 'Area of Work'\n",
        "\n",
        "# Read the CSV file into a DataFrame\n",
        "df = pd.read_csv(input_file_path)\n",
        "\n",
        "# Get the unique values in the specified column\n",
        "unique_values_work = df[column_name].unique()\n",
        "len(unique_values_work)"
      ],
      "metadata": {
        "colab": {
          "base_uri": "https://localhost:8080/"
        },
        "id": "-NWEZbN2TaFr",
        "outputId": "027acc4b-c75e-4d85-a5af-28d1042319e0"
      },
      "execution_count": null,
      "outputs": [
        {
          "output_type": "execute_result",
          "data": {
            "text/plain": [
              "87"
            ]
          },
          "metadata": {},
          "execution_count": 24
        }
      ]
    },
    {
      "cell_type": "markdown",
      "source": [
        "willingness to provide info"
      ],
      "metadata": {
        "id": "KyO6eEnpDtX-"
      }
    },
    {
      "cell_type": "code",
      "source": [
        "import pandas as pd\n",
        "# Load your CSV file into a DataFrame\n",
        "df = pd.read_csv('/content/drive/MyDrive/My_data_final.csv')\n",
        "\n",
        "# Convert 'Willing_to_provide_info' column values to lowercase\n",
        "df['Willing_to_provide_info'] = df['Willing_to_provide_info'].str.lower()\n",
        "\n",
        "# Print unique values in the 'past_of_mentaldisorder' column\n",
        "print(\"Unique values in 'Willing_to_provide_info' column:\", df['Willing_to_provide_info'].unique())"
      ],
      "metadata": {
        "colab": {
          "base_uri": "https://localhost:8080/"
        },
        "id": "XV8yzDjsBS1L",
        "outputId": "850a2cfa-d4c5-457f-cc1c-db5b7ec99b66"
      },
      "execution_count": null,
      "outputs": [
        {
          "output_type": "stream",
          "name": "stdout",
          "text": [
            "Unique values in 'Willing_to_provide_info' column: ['somewhat open' 'neutral'\n",
            " 'not applicable to me (i do not have a mental illness)' 'very open'\n",
            " 'not open at all' 'somewhat not open' '5' '4' '10' '8' '3' '6' '2' '9'\n",
            " '7' '1' '0']\n"
          ]
        }
      ]
    },
    {
      "cell_type": "code",
      "source": [
        "Willing_to_provide_info_mapping={\n",
        "    'somewhat open' : 4, 'neutral' : 5, 'not applicable to me (i do not have a mental illness)' : 8,\n",
        "    'very open': 10, 'not open at all':0 , 'somewhat not open': 6\n",
        "}\n",
        "\n",
        "df['Willing_to_provide_info']=df['Willing_to_provide_info'].map(Willing_to_provide_info_mapping)\n",
        "\n",
        "df.to_csv('/content/drive/MyDrive/My_data_final.csv', index=False)"
      ],
      "metadata": {
        "id": "rQuCVidptci6"
      },
      "execution_count": null,
      "outputs": []
    },
    {
      "cell_type": "markdown",
      "source": [
        "gender"
      ],
      "metadata": {
        "id": "UDvYTSYxDpkc"
      }
    },
    {
      "cell_type": "code",
      "source": [
        "file='/content/drive/MyDrive/My_data_final.csv'\n",
        "df = pd.read_csv(file)\n",
        "df['Gender']=df['Gender'].str.lower()\n",
        "print(\"Unique values in 'gender' column:\", df['Gender'].unique())"
      ],
      "metadata": {
        "colab": {
          "base_uri": "https://localhost:8080/"
        },
        "id": "PHF5xivuuC61",
        "outputId": "3f9d4f6e-c5d1-4af6-bc2d-d47f56ee07c5"
      },
      "execution_count": null,
      "outputs": [
        {
          "output_type": "stream",
          "name": "stdout",
          "text": [
            "Unique values in 'Willing_to_provide_info' column: ['male' 'male ' 'female' 'm' 'i identify as female.' 'female ' 'bigender'\n",
            " 'non-binary' 'female assigned at birth ' 'f' 'woman' 'man' 'fm'\n",
            " 'cis female ' 'transitioned, m2f' 'genderfluid (born female)'\n",
            " 'other/transfeminine' 'female or multi-gender femme' 'female/woman'\n",
            " 'cis male' 'male.' 'androgynous' 'male 9:1 female, roughly' nan\n",
            " 'male (cis)' 'other' 'nb masculine' 'cisgender female' 'sex is male'\n",
            " 'none of your business' 'genderqueer' 'human' 'genderfluid' 'enby' 'malr'\n",
            " 'genderqueer woman' 'mtf' 'queer' 'agender' 'dude' 'fluid'\n",
            " \"i'm a man why didn't you make this a drop down question. you should of asked sex? and i would of answered yes please. seriously how much text can this take? \"\n",
            " 'mail' 'm|' 'male/genderqueer' 'fem' 'nonbinary'\n",
            " 'female (props for making this a freeform field, though)' ' female'\n",
            " 'unicorn' 'male (trans, ftm)' 'cis-woman' 'cisdude'\n",
            " 'genderflux demi-girl' 'female-bodied; no feelings about gender'\n",
            " 'cis man' 'afab' 'transgender woman' 'cis-male' 'male/androgynous '\n",
            " 'cis hetero male' 'femalw' 'femail' 'uhhhhhhhhh fem genderqueer?'\n",
            " \"male (hey this is the tech industry you're talking about)\"\n",
            " 'female (cis)' 'god king of the valajar' 'my sex is female.' 'male, cis'\n",
            " 'cis male ' 'agender/genderfluid' 'male-ish' 'sometimes'\n",
            " 'female (cisgender)' 'female (cis) ' 'woman-identified' 'contextual'\n",
            " 'non binary' 'genderqueer demigirl' 'genderqueer/non-binary' 'cis-female'\n",
            " 'cis female' 'f, cisgender' 'female-ish' '\\\\-' 'trans woman'\n",
            " 'transfeminine' 'none' 'ostensibly male' 'male, born with xy chromosoms'\n",
            " 'malel' 'i identify as female' '*shrug emoji* (f)'\n",
            " 'male (or female, or both)' 'trans man' 'transgender'\n",
            " 'female/gender non-binary.' 'cis woman' 'cisgendered woman' 'demiguy'\n",
            " 'trans female' 'cisgender male' 'she/her/they/them' 'swm' 'nb'\n",
            " 'nonbinary/femme' 'gender non-conforming woman'\n",
            " 'let\\'s keep it simple and say \"male\"' 'identify as male' 'masculine'\n",
            " 'cishet male' 'female-identified' 'questioning' 'i have a penis' 'rr'\n",
            " 'agender trans woman' 'femmina' '43' 'masculino' 'i am a wookie' 'make'\n",
            " 'trans non-binary/genderfluid' 'non-binary and gender fluid' 'femile'\n",
            " 'female, she/her' 'mostly male' 'afab non-binary' 'b' 'male/he/him'\n",
            " 'homem cis' 'cis-het male' 'non-binary/agender']\n"
          ]
        }
      ]
    },
    {
      "cell_type": "code",
      "source": [
        "response_mapping = {\n",
        "\n",
        "    'male': 1, 'male ': 1, 'female': 0, 'm': 1, 'i identify as female.': 0, 'female ': 0,\n",
        "  'female assigned at birth ': 0, 'f': 0, 'woman': 0, 'man': 1, 'fm': 0,\n",
        " 'cis female ': 0, 'transitioned, m2f': 1, 'genderfluid (born female)': 0,\n",
        "  'female or multi-gender femme': 0, 'female/woman': 0,\n",
        " 'cis male': 1, 'male.': 1,\n",
        " 'male (cis)': 1, 'nb masculine': 1, 'cisgender female': 0, 'sex is male': 1,\n",
        " 'malr': 1,\n",
        " 'genderqueer woman': 0,\n",
        " \"i'm a man why didn't you make this a drop down question. you should of asked sex? and i would of answered yes please. seriously how much text can this take? \": 1,\n",
        " 'mail': 1, 'm|': 1, 'male/genderqueer': 1, 'fem': 0,\n",
        " 'female (props for making this a freeform field, though)': 0, ' female': 0,\n",
        " 'male (trans, ftm)': 1, 'cis-woman': 0,\n",
        " 'genderflux demi-girl': 0, 'female-bodied; no feelings about gender': 0,\n",
        " 'cis man': 1, 'cis-male': 1, 'male/androgynous ': 1,\n",
        " 'cis hetero male': 1, 'femalw': 0, 'femail': 0,\n",
        " \"male (hey this is the tech industry you're talking about)\": 1,\n",
        " 'female (cis)': 0, 'my sex is female.': 0, 'male, cis': 1,\n",
        " 'cis male ': 1, 'male-ish': 1,\n",
        " 'female (cisgender)': 0, 'female (cis) ': 0, 'woman-identified': 0,\n",
        " 'genderqueer demigirl': 0, 'cis-female': 0,\n",
        " 'cis female': 0, 'f, cisgender' 'female-ish': 0,\n",
        " 'ostensibly male': 1, 'male, born with xy chromosoms': 1,\n",
        " 'malel': 1, 'i identify as female': 0,\n",
        " 'male (or female, or both)': 1,\n",
        " 'female/gender non-binary.': 0, 'cis woman': 0, 'cisgendered woman': 0,\n",
        " 'cisgender male': 1, 'she/her/they/them': 0,\n",
        " 'gender non-conforming woman': 0,\n",
        " 'let\\'s keep it simple and say \"male\"': 1, 'identify as male': 1, 'masculine': 1,\n",
        " 'cishet male': 1, 'female-identified': 0, 'i have a penis': 1,\n",
        " 'agender trans woman': 0, 'femmina': 0, 'masculino': 1, 'make': 1,\n",
        " 'femile': 0,\n",
        " 'female, she/her': 0, 'mostly male': 1, 'male/he/him': 1,\n",
        " 'cis-het male': 1\n",
        "\n",
        "\n",
        "}"
      ],
      "metadata": {
        "id": "0p78xWt50Zua"
      },
      "execution_count": null,
      "outputs": []
    },
    {
      "cell_type": "code",
      "source": [
        "import pandas as pd\n",
        "\n",
        "# Replace 'input.csv' with your file name\n",
        "input_file_path = '/content/drive/MyDrive/My_data_final.csv'\n",
        "\n",
        "# Read the CSV file into a DataFrame\n",
        "df = pd.read_csv(input_file_path)\n",
        "\n",
        "# Convert 'gender' column values to lowercase\n",
        "df['Gender'] = df['Gender'].str.lower()\n",
        "\n",
        "# Define a default value for responses not found in the mapping\n",
        "default_value = 2\n",
        "\n",
        "# Apply the mapping to the 'gender' column\n",
        "df['Gender'] = df['Gender'].map(response_mapping).fillna(default_value).astype(int)\n",
        "\n",
        "# Print the updated DataFrame\n",
        "print(\"Updated DataFrame:\")\n",
        "print(df)\n"
      ],
      "metadata": {
        "colab": {
          "base_uri": "https://localhost:8080/"
        },
        "id": "cE-vdB8e-zv8",
        "outputId": "156217fa-032f-4fe9-f8f8-dd138ff20b1f"
      },
      "execution_count": null,
      "outputs": [
        {
          "output_type": "stream",
          "name": "stdout",
          "text": [
            "Updated DataFrame:\n",
            "      Area of Residence No.  Area of Work No.  Area of Residence.1 No.  \\\n",
            "0                        79                79                     79.0   \n",
            "1                        80                80                     80.0   \n",
            "2                        79                79                     79.0   \n",
            "3                        79                79                     79.0   \n",
            "4                        80                80                     80.0   \n",
            "...                     ...               ...                      ...   \n",
            "3264                     30                30                      NaN   \n",
            "3265                     62                62                      NaN   \n",
            "3266                     59                75                      NaN   \n",
            "3267                     37                37                      NaN   \n",
            "3268                     70                70                      NaN   \n",
            "\n",
            "      Area of Work.1 No.  num_of_employees  \\\n",
            "0                   79.0         63.000000   \n",
            "1                   80.0        519.210789   \n",
            "2                   79.0        519.210789   \n",
            "3                   79.0        519.210789   \n",
            "4                   80.0        437.800000   \n",
            "...                  ...               ...   \n",
            "3264                 NaN         63.000000   \n",
            "3265                 NaN        300.000000   \n",
            "3266                 NaN        519.210789   \n",
            "3267                 NaN        519.210789   \n",
            "3268                 NaN         63.000000   \n",
            "\n",
            "     Do you currently have a mental health disorder? Family_History  \\\n",
            "0                                                 No             No   \n",
            "1                                                Yes            Yes   \n",
            "2                                                 No             No   \n",
            "3                                                Yes             No   \n",
            "4                                                Yes            Yes   \n",
            "...                                              ...            ...   \n",
            "3264                                             Yes   I don't know   \n",
            "3265                                              No            Yes   \n",
            "3266                                              No             No   \n",
            "3267                                      Don't Know             No   \n",
            "3268                                             Yes             No   \n",
            "\n",
            "     pastof_mentaldisorders  Gender   Age  company_tech/it  \\\n",
            "0                       Yes       1  39.0              1.0   \n",
            "1                       Yes       1  29.0              1.0   \n",
            "2                     Maybe       1  38.0              1.0   \n",
            "3                       Yes       1  43.0              NaN   \n",
            "4                       Yes       0  43.0              0.0   \n",
            "...                     ...     ...   ...              ...   \n",
            "3264                    Yes       1  33.0              1.0   \n",
            "3265               Possibly       1  49.0              1.0   \n",
            "3266             Don't Know       2  28.0              NaN   \n",
            "3267             Don't Know       1  26.0              NaN   \n",
            "3268                    NaN       1  38.0              1.0   \n",
            "\n",
            "      Willing_to_provide_info willingness_todiscuss_in_interview  \\\n",
            "0                         4.0                              Maybe   \n",
            "1                         4.0                              Maybe   \n",
            "2                         4.0                                Yes   \n",
            "3                         5.0                                Yes   \n",
            "4                         4.0                              Maybe   \n",
            "...                       ...                                ...   \n",
            "3264                      NaN                              Maybe   \n",
            "3265                      NaN                              Maybe   \n",
            "3266                      NaN                                 No   \n",
            "3267                      NaN                                 No   \n",
            "3268                      NaN                                Yes   \n",
            "\n",
            "     formal_discussions_current.emp formal_discussion(prev_emp)  \\\n",
            "0                                No                I don't know   \n",
            "1                               Yes                    None did   \n",
            "2                                No                    None did   \n",
            "3                               NaN                    None did   \n",
            "4                                No                    Some did   \n",
            "...                             ...                         ...   \n",
            "3264                             No                    None did   \n",
            "3265                   I don't know                    None did   \n",
            "3266                            NaN                         NaN   \n",
            "3267                            NaN                         NaN   \n",
            "3268                             No                    None did   \n",
            "\n",
            "     Anonymity_protectionby_prev.emp Anonymity_protection(curr_emp)  \\\n",
            "0                       I don't know                   I don't know   \n",
            "1                        Yes, always                            Yes   \n",
            "2                       I don't know                   I don't know   \n",
            "3                       I don't know                            NaN   \n",
            "4                       I don't know                             No   \n",
            "...                              ...                            ...   \n",
            "3264                    I don't know                   I don't know   \n",
            "3265                    I don't know                   I don't know   \n",
            "3266                             NaN                            NaN   \n",
            "3267                             NaN                            NaN   \n",
            "3268                              No                             No   \n",
            "\n",
            "      role_relatedto_tech/it  year  \n",
            "0                        NaN  2016  \n",
            "1                        NaN  2016  \n",
            "2                        NaN  2016  \n",
            "3                        NaN  2016  \n",
            "4                        1.0  2016  \n",
            "...                      ...   ...  \n",
            "3264                     1.0  2021  \n",
            "3265                     1.0  2021  \n",
            "3266                     NaN  2021  \n",
            "3267                     NaN  2021  \n",
            "3268                     1.0  2021  \n",
            "\n",
            "[3269 rows x 19 columns]\n"
          ]
        }
      ]
    },
    {
      "cell_type": "code",
      "source": [
        "df.to_csv('/content/drive/MyDrive/My_data_final.csv', index=False)"
      ],
      "metadata": {
        "id": "lowi8cp6B2Pz"
      },
      "execution_count": null,
      "outputs": []
    },
    {
      "cell_type": "markdown",
      "source": [
        "current status"
      ],
      "metadata": {
        "id": "LU-0tkusDcis"
      }
    },
    {
      "cell_type": "code",
      "source": [
        "column= 'Do you currently have a mental health disorder?'\n",
        "df[column]=df[column].str.lower()\n",
        "print(\"Unique values in 'current status' column:\", df[column].unique())"
      ],
      "metadata": {
        "colab": {
          "base_uri": "https://localhost:8080/"
        },
        "id": "SHqPKQlVB3KA",
        "outputId": "400c874c-4caf-43cb-d942-3ad6e2e823a6"
      },
      "execution_count": null,
      "outputs": [
        {
          "output_type": "stream",
          "name": "stdout",
          "text": [
            "Unique values in 'current status' column: ['no' 'yes' 'maybe' 'possibly' \"don't know\"]\n"
          ]
        }
      ]
    },
    {
      "cell_type": "code",
      "source": [
        "current_mapping={\n",
        "    'no' : 0, 'yes' : 1, 'maybe' :1, 'possibly' : 1,  \"don't know\": 1\n",
        "}\n",
        "\n",
        "df[column]=df[column].map(current_mapping)\n",
        "\n",
        "df.to_csv('/content/drive/MyDrive/My_data_final.csv', index=False)"
      ],
      "metadata": {
        "id": "j9SxaYq5CtG2"
      },
      "execution_count": null,
      "outputs": []
    },
    {
      "cell_type": "markdown",
      "source": [
        "family history"
      ],
      "metadata": {
        "id": "cWq5EB0JDgon"
      }
    },
    {
      "cell_type": "code",
      "source": [
        "column= 'Family_History'\n",
        "df[column]=df[column].str.lower()\n",
        "print(df[column].unique())"
      ],
      "metadata": {
        "colab": {
          "base_uri": "https://localhost:8080/"
        },
        "id": "Jm3fG7WzDYu0",
        "outputId": "68ec462c-2bd4-437a-c4be-1debca7bf185"
      },
      "execution_count": null,
      "outputs": [
        {
          "output_type": "stream",
          "name": "stdout",
          "text": [
            "['no' 'yes' \"i don't know\"]\n"
          ]
        }
      ]
    },
    {
      "cell_type": "code",
      "source": [
        "family_mapping={\n",
        "    'no' : 0, 'yes' : 1,  \"i don't know\": 1\n",
        "}\n",
        "\n",
        "df[column]=df[column].map(family_mapping)\n",
        "\n",
        "df.to_csv('/content/drive/MyDrive/My_data_final.csv', index=False)"
      ],
      "metadata": {
        "id": "V63pfN9IDx-b"
      },
      "execution_count": null,
      "outputs": []
    },
    {
      "cell_type": "markdown",
      "source": [
        "past of mental disorder"
      ],
      "metadata": {
        "id": "tm7L10OMEL8L"
      }
    },
    {
      "cell_type": "code",
      "source": [
        "column= 'pastof_mentaldisorders'\n",
        "df[column]=df[column].str.lower()\n",
        "print(df[column].unique())"
      ],
      "metadata": {
        "colab": {
          "base_uri": "https://localhost:8080/"
        },
        "id": "Y4HNec3VEy1a",
        "outputId": "170e2430-aedb-433d-b34c-d930f7c818c8"
      },
      "execution_count": null,
      "outputs": [
        {
          "output_type": "stream",
          "name": "stdout",
          "text": [
            "['yes' 'maybe' 'no' 'possibly' nan \"don't know\"]\n"
          ]
        }
      ]
    },
    {
      "cell_type": "code",
      "source": [
        "past_mapping={\n",
        "    'no' : 0, 'yes' : 1,  \"don't know\": 2, 'possibly': 2, 'nan':0, 'maybe': 2\n",
        "}\n",
        "\n",
        "df[column]=df[column].map(past_mapping)\n",
        "\n",
        "df.to_csv('/content/drive/MyDrive/My_data_final.csv', index=False)"
      ],
      "metadata": {
        "id": "85GYkVkAE51M"
      },
      "execution_count": null,
      "outputs": []
    },
    {
      "cell_type": "markdown",
      "source": [
        "willingness_todiscuss_in_interview"
      ],
      "metadata": {
        "id": "8t8eGSB4HSg-"
      }
    },
    {
      "cell_type": "code",
      "source": [
        "column= 'willingness_todiscuss_in_interview'\n",
        "df[column]=df[column].str.lower()\n",
        "print(df[column].unique())"
      ],
      "metadata": {
        "colab": {
          "base_uri": "https://localhost:8080/"
        },
        "id": "sNzUp9QwHS-S",
        "outputId": "42c09f70-e2e8-448d-b91e-52fa89247c88"
      },
      "execution_count": null,
      "outputs": [
        {
          "output_type": "stream",
          "name": "stdout",
          "text": [
            "['maybe' 'yes' 'no']\n"
          ]
        }
      ]
    },
    {
      "cell_type": "code",
      "source": [
        "willingness_todiscuss_in_interview_mapping={\n",
        "    'no' : 0, 'yes' : 1, 'maybe': 2\n",
        "}\n",
        "\n",
        "df[column]=df[column].map(willingness_todiscuss_in_interview_mapping)\n",
        "\n",
        "df.to_csv('/content/drive/MyDrive/My_data_final.csv', index=False)"
      ],
      "metadata": {
        "id": "Eo4awiYTHbfe"
      },
      "execution_count": null,
      "outputs": []
    },
    {
      "cell_type": "markdown",
      "source": [
        "formal_discussions_current.emp"
      ],
      "metadata": {
        "id": "8xc1g3TbHx_T"
      }
    },
    {
      "cell_type": "code",
      "source": [
        "column= 'formal_discussions_current.emp'\n",
        "df[column]=df[column].str.lower()\n",
        "print(df[column].unique())"
      ],
      "metadata": {
        "colab": {
          "base_uri": "https://localhost:8080/"
        },
        "id": "HL1Gq8HtHzPK",
        "outputId": "67bb949c-6be9-4fa1-d332-dc9ac0b33896"
      },
      "execution_count": null,
      "outputs": [
        {
          "output_type": "stream",
          "name": "stdout",
          "text": [
            "['no' 'yes' nan \"i don't know\"]\n"
          ]
        }
      ]
    },
    {
      "cell_type": "code",
      "source": [
        "formal_discussions_current_mapping={\n",
        "    'no' : 0, 'yes' : 1, \"i don't know\" : 2\n",
        "}\n",
        "\n",
        "df[column]=df[column].map(formal_discussions_current_mapping)\n",
        "\n",
        "df.to_csv('/content/drive/MyDrive/My_data_final.csv', index=False)"
      ],
      "metadata": {
        "id": "WqyijYwaHz3Z"
      },
      "execution_count": null,
      "outputs": []
    },
    {
      "cell_type": "markdown",
      "source": [
        "formal_discussion(prev_emp)"
      ],
      "metadata": {
        "id": "YF5aRU1LIslI"
      }
    },
    {
      "cell_type": "code",
      "source": [
        "column= 'formal_discussion(prev_emp)'\n",
        "df[column]=df[column].str.lower()\n",
        "print(df[column].unique())"
      ],
      "metadata": {
        "colab": {
          "base_uri": "https://localhost:8080/"
        },
        "id": "HFkVCsy4ItMy",
        "outputId": "8a565ac0-16f6-49ea-f8ec-a176e7c4823d"
      },
      "execution_count": null,
      "outputs": [
        {
          "output_type": "stream",
          "name": "stdout",
          "text": [
            "[\"i don't know\" 'none did' 'some did' nan 'yes, they all did']\n"
          ]
        }
      ]
    },
    {
      "cell_type": "code",
      "source": [
        "formal_discussions_prev_mapping={\n",
        "    \"i don't know\" : 2, 'yes, they all did' : 1, 'none did' : 0,'some did': 2\n",
        "}\n",
        "\n",
        "df[column]=df[column].map(formal_discussions_prev_mapping)\n",
        "\n",
        "df.to_csv('/content/drive/MyDrive/My_data_final.csv', index=False)"
      ],
      "metadata": {
        "id": "WjkKx9XIItxc"
      },
      "execution_count": null,
      "outputs": []
    },
    {
      "cell_type": "markdown",
      "source": [
        "Anonymity_protectionby_prev.emp"
      ],
      "metadata": {
        "id": "iuxT4_LjJZgc"
      }
    },
    {
      "cell_type": "code",
      "source": [
        "column= 'Anonymity_protectionby_prev.emp'\n",
        "df[column]=df[column].str.lower()\n",
        "print(df[column].unique())"
      ],
      "metadata": {
        "colab": {
          "base_uri": "https://localhost:8080/"
        },
        "id": "Qd_C3guOJaJE",
        "outputId": "8e480d58-af11-462b-dcf9-26db99b67f4f"
      },
      "execution_count": null,
      "outputs": [
        {
          "output_type": "stream",
          "name": "stdout",
          "text": [
            "[\"i don't know\" 'yes, always' 'sometimes' 'no' nan]\n"
          ]
        }
      ]
    },
    {
      "cell_type": "code",
      "source": [
        "Anonymity_protection_prev_mapping={\n",
        "    \"i don't know\" : 2, 'yes, always' : 1, 'sometimes' : 2,'no': 0\n",
        "    }\n",
        "\n",
        "df[column]=df[column].map(Anonymity_protection_prev_mapping)\n",
        "\n",
        "df.to_csv('/content/drive/MyDrive/My_data_final.csv', index=False)"
      ],
      "metadata": {
        "id": "2txiCEJBJapH"
      },
      "execution_count": null,
      "outputs": []
    },
    {
      "cell_type": "markdown",
      "source": [
        "Anonymity_protection(curr_emp)"
      ],
      "metadata": {
        "id": "7K7Nbt_8MsfL"
      }
    },
    {
      "cell_type": "code",
      "source": [
        "column= 'Anonymity_protection(curr_emp)'\n",
        "df[column]=df[column].str.lower()\n",
        "print(df[column].unique())"
      ],
      "metadata": {
        "colab": {
          "base_uri": "https://localhost:8080/"
        },
        "id": "sPZA5-e2Mwb-",
        "outputId": "2484e8d9-c795-4c1f-bedf-3ad5215f27fa"
      },
      "execution_count": null,
      "outputs": [
        {
          "output_type": "stream",
          "name": "stdout",
          "text": [
            "[\"i don't know\" 'yes' nan 'no']\n"
          ]
        }
      ]
    },
    {
      "cell_type": "code",
      "source": [
        "Anonymity_protection_curr_mapping={\n",
        "    \"i don't know\" : 2, 'yes' : 1, 'no': 0\n",
        "    }\n",
        "\n",
        "df[column]=df[column].map(Anonymity_protection_curr_mapping)\n",
        "\n",
        "df.to_csv('/content/drive/MyDrive/My_data_final.csv', index=False)"
      ],
      "metadata": {
        "id": "xOskfrZqMw74"
      },
      "execution_count": null,
      "outputs": []
    },
    {
      "cell_type": "code",
      "source": [
        "from google.colab import drive\n",
        "drive.mount('/content/drive')\n",
        "\n",
        "import pandas as pd\n",
        "\n",
        "# Replace 'input.csv' with your file name\n",
        "input_file_path = '/content/drive/MyDrive/My_data_final.csv'\n",
        "\n",
        "# Read the CSV file into a DataFrame\n",
        "df = pd.read_csv(input_file_path)"
      ],
      "metadata": {
        "colab": {
          "base_uri": "https://localhost:8080/"
        },
        "id": "77jE1XelyDOq",
        "outputId": "14f28eb8-53e0-4300-d99f-6ef3fe8b2095"
      },
      "execution_count": null,
      "outputs": [
        {
          "output_type": "stream",
          "name": "stdout",
          "text": [
            "Drive already mounted at /content/drive; to attempt to forcibly remount, call drive.mount(\"/content/drive\", force_remount=True).\n"
          ]
        }
      ]
    },
    {
      "cell_type": "markdown",
      "source": [
        "Proffesional_medical_treatment"
      ],
      "metadata": {
        "id": "WXlXNucfvJfJ"
      }
    },
    {
      "cell_type": "code",
      "source": [
        "column= 'Proffesional_medical_treatment'\n",
        "df[column]=df[column].str.lower()\n",
        "print(df[column].unique())"
      ],
      "metadata": {
        "colab": {
          "base_uri": "https://localhost:8080/"
        },
        "id": "f61AsE8yvKAn",
        "outputId": "960070df-d7e4-4535-d286-22c7f972ab2c"
      },
      "execution_count": null,
      "outputs": [
        {
          "output_type": "stream",
          "name": "stdout",
          "text": [
            "['0' '1' nan 'false' 'true']\n"
          ]
        }
      ]
    },
    {
      "cell_type": "code",
      "source": [
        "Proffesional_medical_treatment_mapping={\n",
        "    'true' : 1, 'false' :0\n",
        "    }\n",
        "\n",
        "df[column]=df[column].replace(Proffesional_medical_treatment_mapping)\n",
        "\n",
        "df.to_csv('/content/drive/MyDrive/My_data_final.csv', index=False)"
      ],
      "metadata": {
        "id": "xjOvhpCCvHN1"
      },
      "execution_count": null,
      "outputs": []
    },
    {
      "cell_type": "markdown",
      "source": [
        "Mental_Issue_Leaves_Accessibility"
      ],
      "metadata": {
        "id": "Lo8Y3Ruhvb1N"
      }
    },
    {
      "cell_type": "code",
      "source": [
        "column= 'Mental_Issue_Leaves_Accessibility'\n",
        "df[column]=df[column].str.lower()\n",
        "print(df[column].unique())"
      ],
      "metadata": {
        "colab": {
          "base_uri": "https://localhost:8080/"
        },
        "id": "1YznmrAGvade",
        "outputId": "9d035d8d-2e9c-4d61-8ae6-25026007fda4"
      },
      "execution_count": null,
      "outputs": [
        {
          "output_type": "stream",
          "name": "stdout",
          "text": [
            "['very easy' 'somewhat easy' 'neither easy nor difficult' nan\n",
            " 'very difficult' 'somewhat difficult' \"i don't know\" 'difficult']\n"
          ]
        }
      ]
    },
    {
      "cell_type": "code",
      "source": [
        "Mental_Issue_Leaves_Accessibility_mapping={\n",
        "    'very easy':1, 'somewhat easy':2, 'neither easy nor difficult':3,\n",
        " 'very difficult':6, 'somewhat difficult':4, \"i don't know\":3, 'difficult':5\n",
        "    }\n",
        "\n",
        "df[column]=df[column].map(Mental_Issue_Leaves_Accessibility_mapping)\n",
        "\n",
        "df.to_csv('/content/drive/MyDrive/My_data_final.csv', index=False)"
      ],
      "metadata": {
        "id": "h8tXprMdvbTw"
      },
      "execution_count": null,
      "outputs": []
    },
    {
      "cell_type": "markdown",
      "source": [
        "Mental_Health_Benefits(PrevEmp)"
      ],
      "metadata": {
        "id": "UOoxFA8Nvl2H"
      }
    },
    {
      "cell_type": "code",
      "source": [
        "column= 'Mental_Health_Benefits(PrevEmp)'\n",
        "df[column]=df[column].str.lower()\n",
        "print(df[column].unique())"
      ],
      "metadata": {
        "colab": {
          "base_uri": "https://localhost:8080/"
        },
        "id": "eR4Ox7uYvonM",
        "outputId": "cee51ace-3eb9-469d-e778-6d89a2343d6f"
      },
      "execution_count": null,
      "outputs": [
        {
          "output_type": "stream",
          "name": "stdout",
          "text": [
            "['no, none did' 'yes, they all did' 'some did' \"i don't know\" nan]\n"
          ]
        }
      ]
    },
    {
      "cell_type": "code",
      "source": [
        "Mental_Health_Benefits_mapping={\n",
        "    'no, none did':0,  'yes, they all did':1, 'some did':2, \"i don't know\":2\n",
        "    }\n",
        "\n",
        "df[column]=df[column].map(Mental_Health_Benefits_mapping)\n",
        "\n",
        "df.to_csv('/content/drive/MyDrive/My_data_final.csv', index=False)"
      ],
      "metadata": {
        "id": "Xo25lC-JvpEZ"
      },
      "execution_count": null,
      "outputs": []
    },
    {
      "cell_type": "markdown",
      "source": [
        "Effectof_identification_oncareer"
      ],
      "metadata": {
        "id": "CUlPVR6RUrJ2"
      }
    },
    {
      "cell_type": "code",
      "source": [
        "column= 'Effectof_identification_oncareer'\n",
        "df[column]=df[column].str.lower()\n",
        "print(df[column].unique())"
      ],
      "metadata": {
        "colab": {
          "base_uri": "https://localhost:8080/"
        },
        "id": "lU7rIRfrUrlE",
        "outputId": "9d1d508b-a68b-4df2-b70a-67fb8e34c471"
      },
      "execution_count": null,
      "outputs": [
        {
          "output_type": "stream",
          "name": "stdout",
          "text": [
            "[nan '1' '0']\n"
          ]
        }
      ]
    },
    {
      "cell_type": "code",
      "source": [
        "Effectof_identification_oncareer_mapping={\n",
        "    'maybe':1, \"no, i don't think it would\":0, 'yes, i think it would':1,\n",
        " 'no, it has not':0, 'yes, it has':1, 'false':0, 'true':1\n",
        "    }\n",
        "\n",
        "df[column]=df[column].replace(Effectof_identification_oncareer_mapping)\n",
        "\n",
        "df.to_csv('/content/drive/MyDrive/My_data_final.csv', index=False)"
      ],
      "metadata": {
        "id": "U3HSMghHUsMs"
      },
      "execution_count": null,
      "outputs": []
    },
    {
      "cell_type": "markdown",
      "source": [
        "Discussion_With_DirectSupervisors"
      ],
      "metadata": {
        "id": "_s1k5bsQVZRN"
      }
    },
    {
      "cell_type": "code",
      "source": [
        "column= 'Discussion_With_DirectSupervisors'\n",
        "df[column]=df[column].str.lower()\n",
        "print(df[column].unique())"
      ],
      "metadata": {
        "colab": {
          "base_uri": "https://localhost:8080/"
        },
        "id": "wm-0Gn1IVZ7f",
        "outputId": "49fd326b-4b2b-4925-a3dd-dcc5a9f01566"
      },
      "execution_count": null,
      "outputs": [
        {
          "output_type": "stream",
          "name": "stdout",
          "text": [
            "['yes' 'maybe' nan 'no']\n"
          ]
        }
      ]
    },
    {
      "cell_type": "code",
      "source": [
        "Discussion_With_DirectSupervisors_mapping={\n",
        "    'yes' :1, 'no' :0, 'maybe' :1\n",
        "    }\n",
        "\n",
        "df[column]=df[column].replace(Discussion_With_DirectSupervisors_mapping)\n",
        "\n",
        "df.to_csv('/content/drive/MyDrive/My_data_final.csv', index=False)"
      ],
      "metadata": {
        "id": "98CKcDBTVaZv"
      },
      "execution_count": null,
      "outputs": []
    },
    {
      "cell_type": "markdown",
      "source": [
        "Aware_abt_employer-provided health coverage"
      ],
      "metadata": {
        "id": "PCi2SX4EVa4I"
      }
    },
    {
      "cell_type": "code",
      "source": [
        "column= 'Aware_abt_employer-provided health coverage'\n",
        "df[column]=df[column].str.lower()\n",
        "print(df[column].unique())"
      ],
      "metadata": {
        "colab": {
          "base_uri": "https://localhost:8080/"
        },
        "id": "D6HEhpvEVbs2",
        "outputId": "059d3de0-4b50-4594-996a-851752a85090"
      },
      "execution_count": null,
      "outputs": [
        {
          "output_type": "stream",
          "name": "stdout",
          "text": [
            "[nan 'yes' 'i am not sure' 'no']\n"
          ]
        }
      ]
    },
    {
      "cell_type": "code",
      "source": [
        "Aware_abt_health_coverage_mapping={\n",
        "    'yes' :1, 'i am not sure' :2, 'no' :0\n",
        "    }\n",
        "\n",
        "df[column]=df[column].replace(Aware_abt_health_coverage_mapping)\n",
        "\n",
        "df.to_csv('/content/drive/MyDrive/My_data_final.csv', index=False)"
      ],
      "metadata": {
        "id": "3F0FXahfVcNi"
      },
      "execution_count": null,
      "outputs": []
    },
    {
      "cell_type": "markdown",
      "source": [
        "Discussion_with_Coworkers"
      ],
      "metadata": {
        "id": "bdspliXfVckc"
      }
    },
    {
      "cell_type": "code",
      "source": [
        "column= 'Any_PreviousEmployers'\n",
        "#df[column]=df[column].str.lower()\n",
        "print(df[column].unique())"
      ],
      "metadata": {
        "colab": {
          "base_uri": "https://localhost:8080/"
        },
        "id": "w52zbj6OVdgl",
        "outputId": "d20c45af-e4f2-4ada-e7aa-ba9b79f3c806"
      },
      "execution_count": null,
      "outputs": [
        {
          "output_type": "stream",
          "name": "stdout",
          "text": [
            "[1 0]\n"
          ]
        }
      ]
    },
    {
      "cell_type": "code",
      "source": [
        "x_mapping={\n",
        "    'yes' :1, 'no' :0, 'maybe' :2\n",
        "    }\n",
        "\n",
        "df[column]=df[column].replace(x_mapping)\n",
        "\n",
        "df.to_csv('/content/drive/MyDrive/My_data_final.csv', index=False)"
      ],
      "metadata": {
        "id": "IvH_fLFGVd8Z"
      },
      "execution_count": null,
      "outputs": []
    },
    {
      "cell_type": "markdown",
      "source": [
        "KNN"
      ],
      "metadata": {
        "id": "NOoN-H3eZt1u"
      }
    },
    {
      "cell_type": "code",
      "source": [
        "from sklearn.impute import KNNImputer\n",
        "import pandas as pd\n",
        "\n",
        "# Read the CSV file\n",
        "file_path = \"/content/drive/MyDrive/My_data_final.csv\"\n",
        "final_dataset_encoded = pd.read_csv(file_path)\n",
        "\n",
        "# Save the column names before imputation\n",
        "columns_before_imputation = final_dataset_encoded.columns\n",
        "\n",
        "# Impute missing values using KNNImputer\n",
        "imputer = KNNImputer(n_neighbors=5)\n",
        "final_dataset_encoded[columns_before_imputation] = imputer.fit_transform(final_dataset_encoded)\n",
        "\n",
        "# Drop the index column before saving to CSV\n",
        "final_dataset_encoded.to_csv(file_path, index=False)\n"
      ],
      "metadata": {
        "id": "9dfosDdqiEPV"
      },
      "execution_count": null,
      "outputs": []
    }
  ]
}