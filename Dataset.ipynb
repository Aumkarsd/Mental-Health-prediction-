{
  "nbformat": 4,
  "nbformat_minor": 0,
  "metadata": {
    "colab": {
      "provenance": []
    },
    "kernelspec": {
      "name": "python3",
      "display_name": "Python 3"
    },
    "language_info": {
      "name": "python"
    }
  },
  "cells": [
    {
      "cell_type": "markdown",
      "source": [
        "# New Section"
      ],
      "metadata": {
        "id": "MGF9dXOngR5p"
      }
    },
    {
      "cell_type": "markdown",
      "source": [
        "**1. DATASET GENERATION**"
      ],
      "metadata": {
        "id": "wKBxLLjz6JfD"
      }
    },
    {
      "cell_type": "code",
      "source": [
        "from google.colab import drive\n",
        "drive.mount('/content/drive')"
      ],
      "metadata": {
        "id": "LljedDr9ZDxI"
      },
      "execution_count": null,
      "outputs": []
    },
    {
      "cell_type": "markdown",
      "source": [
        "1.1 COMMON-FIELDS AMONGST 6 YEARS"
      ],
      "metadata": {
        "id": "bFzv3eItuOPf"
      }
    },
    {
      "cell_type": "code",
      "source": [
        "import pandas as pd\n",
        "\n",
        "# List of your CSV file filenames\n",
        "file_names = [\"/content/drive/MyDrive/2016_ori.csv\", \"/content/drive/MyDrive/2017_ori.csv\", \"/content/drive/MyDrive/2018_ori.csv\", \"/content/drive/MyDrive/2019_ori.csv\", \"/content/drive/MyDrive/2020_ori.csv\", \"/content/drive/MyDrive/2021_ori.csv\"]\n",
        "\n",
        "# Create a list to store fields for each file\n",
        "fields_per_file = []\n",
        "\n",
        "# Loop through each CSV file\n",
        "for file_name in file_names:\n",
        "    # Read the CSV file into a DataFrame\n",
        "    df = pd.read_csv(file_name)\n",
        "\n",
        "    # Add the columns to the list for each file\n",
        "    fields_per_file.append(set(df.columns))\n",
        "\n",
        "# Print the list of common fields and their count\n",
        "common_fields = set.intersection(*fields_per_file)\n",
        "print(\"Common Fields:\")\n",
        "for field in common_fields:\n",
        "    print(field)\n",
        "\n",
        "print(\"\\nCount of Common Fields:\", len(common_fields))\n"
      ],
      "metadata": {
        "id": "c2T11UeWZEpJ",
        "colab": {
          "base_uri": "https://localhost:8080/"
        },
        "outputId": "0c14c371-de95-4264-ad4d-9053757b5a2d"
      },
      "execution_count": null,
      "outputs": [
        {
          "output_type": "stream",
          "name": "stdout",
          "text": [
            "Common Fields:\n",
            "Have you ever sought treatment for a mental health disorder from a mental health professional?\n",
            "Do you have a family history of mental illness?\n",
            "Do you currently have a mental health disorder?\n",
            "If a mental health issue prompted you to request a medical leave from work, how easy or difficult would it be to ask for that leave?\n",
            "Have your previous employers provided mental health benefits?\n",
            "Reasons\n",
            "Has being identified as a person with a mental health issue affected your career?\n",
            "If you have been diagnosed or treated for a mental health disorder, do you ever reveal this to clients or business contacts?\n",
            "Do you know the options for mental health care available under your employer-provided health coverage?\n",
            "Is your primary role within your company related to tech/IT?\n",
            "Would you feel comfortable discussing a mental health issue with your coworkers?\n",
            "Do you know local or online resources to seek help for a mental health issue?\n",
            "What is your age?\n",
            "How willing would you be to share with friends and family that you have a mental illness?\n",
            "Does your employer provide mental health benefits as part of healthcare coverage?\n",
            "If you have a mental health disorder, how often do you feel that it interferes with your work when being treated effectively?\n",
            "Would you be willing to bring up a physical health issue with a potential employer in an interview?\n",
            "If you have a mental health issue, do you feel that it interferes with your work when NOT being treated effectively?\n",
            "Would you feel comfortable discussing a mental health issue with your direct supervisor(s)?\n",
            "If you have been diagnosed or treated for a mental health disorder, do you ever reveal this to coworkers or employees?\n",
            "Did your previous employers provide resources to learn more about mental health disorders and how to seek help?\n",
            "Have you observed or experienced an unsupportive or badly handled response to a mental health issue in your current or previous workplace?\n",
            "How many employees does your company or organization have?\n",
            "Has your employer ever formally discussed mental health (for example, as part of a wellness campaign or other official communication)?\n",
            "Does your employer offer resources to learn more about mental health disorders and options for seeking help?\n",
            "Area of Residence\n",
            "Were you aware of the options for mental health care provided by your previous employers?\n",
            "Are you self-employed?\n",
            "Have your observations of how another individual who discussed a mental health issue made you less likely to reveal a mental health issue yourself in your current workplace?\n",
            "Do you believe your productivity is ever affected by a mental health issue?\n",
            "Why or why not?\n",
            "Area of Work\n",
            "Is your anonymity protected if you choose to take advantage of mental health or substance abuse treatment resources provided by your employer?\n",
            "Do you have medical coverage (private insurance or state-provided) that includes treatment of mental health disorders?\n",
            "If yes, what percentage of your work time (time performing primary or secondary job functions) is affected by a mental health issue?\n",
            "Do you have previous employers?\n",
            "Was your anonymity protected if you chose to take advantage of mental health or substance abuse treatment resources with previous employers?\n",
            "Did your previous employers ever formally discuss mental health (as part of a wellness campaign or other official communication)?\n",
            "\n",
            "Count of Common Fields: 38\n"
          ]
        }
      ]
    },
    {
      "cell_type": "code",
      "source": [
        "for file_name in file_names:\n",
        "  df=pd.read_csv(file_name)\n",
        "  df_filtered=df[common_fields]\n",
        "  df_filtered.to_csv(file_name,index=False)"
      ],
      "metadata": {
        "colab": {
          "base_uri": "https://localhost:8080/"
        },
        "id": "nbRaeIuOaOh9",
        "outputId": "5e3fc68e-b91c-4e0a-fc7b-4b83486cc56b"
      },
      "execution_count": null,
      "outputs": [
        {
          "output_type": "stream",
          "name": "stderr",
          "text": [
            "<ipython-input-3-dde8667b2501>:3: FutureWarning: Passing a set as an indexer is deprecated and will raise in a future version. Use a list instead.\n",
            "  df_filtered=df[common_fields]\n",
            "<ipython-input-3-dde8667b2501>:3: FutureWarning: Passing a set as an indexer is deprecated and will raise in a future version. Use a list instead.\n",
            "  df_filtered=df[common_fields]\n",
            "<ipython-input-3-dde8667b2501>:3: FutureWarning: Passing a set as an indexer is deprecated and will raise in a future version. Use a list instead.\n",
            "  df_filtered=df[common_fields]\n",
            "<ipython-input-3-dde8667b2501>:3: FutureWarning: Passing a set as an indexer is deprecated and will raise in a future version. Use a list instead.\n",
            "  df_filtered=df[common_fields]\n",
            "<ipython-input-3-dde8667b2501>:3: FutureWarning: Passing a set as an indexer is deprecated and will raise in a future version. Use a list instead.\n",
            "  df_filtered=df[common_fields]\n",
            "<ipython-input-3-dde8667b2501>:3: FutureWarning: Passing a set as an indexer is deprecated and will raise in a future version. Use a list instead.\n",
            "  df_filtered=df[common_fields]\n"
          ]
        }
      ]
    },
    {
      "cell_type": "code",
      "source": [
        "import pandas as pd\n",
        "\n",
        "# Load your CSV file into a DataFrame\n",
        "df = pd.read_csv('/content/drive/MyDrive/modified_G.csv')\n",
        "\n",
        "# Convert 'Willing_to_provide_info' column values to lowercase\n",
        "df['Willing_to_provide_info'] = df['Willing_to_provide_info'].str.lower()\n",
        "\n",
        "# Print unique values in the 'past_of_mentaldisorder' column\n",
        "#print(\"Unique values in 'Willing_to_provide_info' column:\", df['Willing_to_provide_info'].unique())\n",
        "\n",
        "Willing_to_provide_info_mapping={\n",
        "    'somewhat open' : 4, 'neutral' : 5, 'not applicable to me (i do not have a mental illness)' : 8,\n",
        "    'very open': 10, 'not open at all':0 , 'somewhat not open': 6\n",
        "}\n",
        "\n",
        "df['Willing_to_provide_info']=df['Willing_to_provide_info'].map(Willing_to_provide_info_mapping)\n",
        "\n",
        "df.to_csv('/content/drive/MyDrive/modified_G.csv', index=False)\n"
      ],
      "metadata": {
        "id": "ntc9LXRfklGq"
      },
      "execution_count": null,
      "outputs": []
    },
    {
      "cell_type": "markdown",
      "source": [
        "1.2 COMBINING ALL INDIVIDUAL YEARS' ENTRIES"
      ],
      "metadata": {
        "id": "E8540CIsudIL"
      }
    },
    {
      "cell_type": "code",
      "source": [
        "import pandas as pd\n",
        "\n",
        "# List of your CSV file filenames\n",
        "file_names = [\n",
        "    \"/content/drive/MyDrive/2016.csv/2016.csv\",\n",
        "    \"/content/drive/MyDrive/2017.csv\",\n",
        "    \"/content/drive/MyDrive/2018.csv\",\n",
        "    \"/content/drive/MyDrive/2019.csv\",\n",
        "    \"/content/drive/MyDrive/2020.csv\",\n",
        "    \"/content/drive/MyDrive/2021.csv\"\n",
        "]\n",
        "\n",
        "# List to store DataFrames for each file\n",
        "dfs = []\n",
        "\n",
        "# Common columns across all years (replace with your actual column names)\n",
        "#common_columns = ['ID', 'Gender', 'Column2', 'Column3', 'Column4', 'Column5', 'Column6', 'Column7', 'Column8', 'Column9', 'Column10', 'Column11', 'Column12', 'Column13', 'Column14', 'Column15', 'Column16']\n",
        "\n",
        "# Loop through each CSV file\n",
        "for file_name in file_names:\n",
        "    # Read the CSV file into a DataFrame\n",
        "    df = pd.read_csv(file_name)\n",
        "\n",
        "    # Select only the common columns\n",
        "    df = df[common_fields]\n",
        "\n",
        "    # Append the DataFrame to the list\n",
        "    dfs.append(df)\n",
        "\n",
        "# Concatenate DataFrames vertically\n",
        "final_dataset = pd.concat(dfs, ignore_index=True)\n",
        "\n",
        "# Save the final dataset to a new CSV file\n",
        "final_dataset.to_csv(\"/content/drive/MyDrive/combined_dataset.csv\", index=False)\n"
      ],
      "metadata": {
        "id": "T26v03XClopm",
        "colab": {
          "base_uri": "https://localhost:8080/"
        },
        "outputId": "36466078-4004-4544-f842-d3bd244c626a"
      },
      "execution_count": null,
      "outputs": [
        {
          "output_type": "stream",
          "name": "stderr",
          "text": [
            "<ipython-input-14-19cbcf65602e>:25: FutureWarning: Passing a set as an indexer is deprecated and will raise in a future version. Use a list instead.\n",
            "  df = df[common_fields]\n",
            "<ipython-input-14-19cbcf65602e>:25: FutureWarning: Passing a set as an indexer is deprecated and will raise in a future version. Use a list instead.\n",
            "  df = df[common_fields]\n",
            "<ipython-input-14-19cbcf65602e>:25: FutureWarning: Passing a set as an indexer is deprecated and will raise in a future version. Use a list instead.\n",
            "  df = df[common_fields]\n",
            "<ipython-input-14-19cbcf65602e>:25: FutureWarning: Passing a set as an indexer is deprecated and will raise in a future version. Use a list instead.\n",
            "  df = df[common_fields]\n",
            "<ipython-input-14-19cbcf65602e>:25: FutureWarning: Passing a set as an indexer is deprecated and will raise in a future version. Use a list instead.\n",
            "  df = df[common_fields]\n",
            "<ipython-input-14-19cbcf65602e>:25: FutureWarning: Passing a set as an indexer is deprecated and will raise in a future version. Use a list instead.\n",
            "  df = df[common_fields]\n"
          ]
        }
      ]
    },
    {
      "cell_type": "markdown",
      "source": [
        "**2. DATA PREPROCESSING**"
      ],
      "metadata": {
        "id": "Dha3Zn1wul-L"
      }
    },
    {
      "cell_type": "markdown",
      "source": [
        "2.1 SIMPLIFICATION AND REORDERING OF COLUMN_NAMES"
      ],
      "metadata": {
        "id": "1UbnhjIiurNN"
      }
    },
    {
      "cell_type": "code",
      "source": [
        "import pandas as pd\n",
        "final_dataset=pd.read_csv(\"/content/drive/MyDrive/final_dataset.csv\")\n",
        "new_column_names={}\n",
        "for old_column in final_dataset.columns:\n",
        "  action=input(f\"WANNA KEEP/DELETE '{old_column}'? (keep/delete): \" ).lower()\n",
        "  if action==\"delete\":\n",
        "    final_dataset.drop(columns=old_column, inplace=True)\n",
        "  elif action==\"keep\":\n",
        "    new_name=input(f\"New_name: \")\n",
        "    final_dataset.rename(columns={old_column: new_name},inplace=True)"
      ],
      "metadata": {
        "id": "6I0Pu1bBrUuY",
        "colab": {
          "base_uri": "https://localhost:8080/"
        },
        "outputId": "b2e744a2-848a-4c3d-b74d-89c997570157"
      },
      "execution_count": null,
      "outputs": [
        {
          "name": "stdout",
          "output_type": "stream",
          "text": [
            "WANNA KEEP/DELETE 'family_history'? (keep/delete): keep\n",
            "New_name: Family_History\n",
            "WANNA KEEP/DELETE 'Willingness_to_share?'? (keep/delete): keep\n",
            "New_name: Willing_to_provide_info\n",
            "WANNA KEEP/DELETE 'Effect_on_Productivity'? (keep/delete): delete\n",
            "WANNA KEEP/DELETE 'related_to_tech/it'? (keep/delete): keep\n",
            "New_name: role_relatedto_tech/it\n",
            "WANNA KEEP/DELETE 'anonymity_Protection'? (keep/delete): keep\n",
            "New_name: Anonymity_protectionby_prev.emp\n",
            "WANNA KEEP/DELETE 'willingness_to_discuss_healthissue'? (keep/delete): keep\n",
            "New_name: willingness_todiscuss_in_interview\n",
            "WANNA KEEP/DELETE 'Age'? (keep/delete): keep\n",
            "New_name: Age\n",
            "WANNA KEEP/DELETE 'Y/Y_not'? (keep/delete): delete\n",
            "WANNA KEEP/DELETE 'formal_discussions'? (keep/delete): keep\n",
            "New_name: formal_discussions_current.emp\n",
            "WANNA KEEP/DELETE 'formal_discussion(prev_employee)'? (keep/delete): keep\n",
            "New_name: formal_discussion(prev_emp)\n",
            "WANNA KEEP/DELETE 'time_of_discussion'? (keep/delete): keep\n",
            "New_name: time_of_discussion\n",
            "WANNA KEEP/DELETE 'Y/Y_not.1'? (keep/delete): delete\n",
            "WANNA KEEP/DELETE 'no_of_employes'? (keep/delete): keep\n",
            "New_name: no_of_employees\n",
            "WANNA KEEP/DELETE 'Gender'? (keep/delete): keep\n",
            "New_name: Gender\n",
            "WANNA KEEP/DELETE 'past_of_mentalhealthdisorder'? (keep/delete): keep\n",
            "New_name: pastof_mentaldisorders\n",
            "WANNA KEEP/DELETE 'tech_company/org'? (keep/delete): keep\n",
            "New_name: company_tech/it\n",
            "WANNA KEEP/DELETE 'Anonymity_protection'? (keep/delete): keep\n",
            "New_name: Anonymity_protection(curr_emp)\n"
          ]
        }
      ]
    },
    {
      "cell_type": "code",
      "source": [
        "final_dataset.to_csv(\"/content/drive/MyDrive/final_dataset_updated.csv\", index=False)"
      ],
      "metadata": {
        "id": "K7xlGc1B61fL"
      },
      "execution_count": null,
      "outputs": []
    },
    {
      "cell_type": "code",
      "source": [
        "import pandas as pd\n",
        "\n",
        "# Read the final dataset with updated column names\n",
        "final_dataset_updated = pd.read_csv(\"/content/drive/MyDrive/final_dataset_updated.csv\")\n",
        "\n",
        "# Specify your desired order of columns\n",
        "desired_order = [\"Family_History\",\"pastof_mentaldisorders\",\"Gender\",\"Age\",\n",
        "                 \"no_of_employees\",\"role_relatedto_tech/it\",\"company_tech/it\",\n",
        "                 \"Willing_to_provide_info\", \"willingness_todiscuss_in_interview\",\"formal_discussions_current.emp\",\"formal_discussion(prev_emp)\",\"time_of_discussion\",\"Anonymity_protectionby_prev.emp\",\"Anonymity_protection(curr_emp)\"]  # Replace with your desired order\n",
        "\n",
        "# Reorder columns based on the desired order\n",
        "final_dataset_updated = final_dataset_updated[desired_order]\n",
        "\n",
        "# Save the final dataset with reordered columns\n",
        "final_dataset_updated.to_csv(\"/content/drive/MyDrive/final_dataset_reordered.csv\", index=False)\n"
      ],
      "metadata": {
        "id": "d3q-mSqtFPoC"
      },
      "execution_count": null,
      "outputs": []
    },
    {
      "cell_type": "markdown",
      "source": [
        "2.2 LABEL ENCODING ON TEXTUAL DATA"
      ],
      "metadata": {
        "id": "EK3VDZCX3iGF"
      }
    },
    {
      "cell_type": "code",
      "source": [
        "import pandas as pd\n",
        "\n",
        "# Load your CSV file into a DataFrame\n",
        "df = pd.read_csv('/content/drive/MyDrive/modified_G.csv')\n",
        "\n",
        "# Convert 'role_relatedto_tech/it' column values to lowercase\n",
        "df['role_relatedto_tech/it'] = df['role_relatedto_tech/it'].str.lower()\n",
        "\n",
        "# Print unique values in the 'past_of_mentaldisorder' column\n",
        "#print(\"Unique values in 'role_relatedto_tech/it' column:\", df['role_relatedto_tech/it'].unique())\n",
        "\n",
        "role_relatedto_tech_mapping={\n",
        "    'TRUE' : 1, 'FALSE' : 0\n",
        "}\n",
        "\n",
        "df['role_relatedto_tech/it']=df['role_relatedto_tech/it'].map(role_relatedto_tech_mapping)\n",
        "\n",
        "df.to_csv('/content/drive/MyDrive/modified_G.csv', index=False)\n"
      ],
      "metadata": {
        "id": "VAI9ytt5HH7X"
      },
      "execution_count": null,
      "outputs": []
    },
    {
      "cell_type": "code",
      "source": [
        "# Gender_column encoded male:0 ; female:1, other:2\n",
        "#willingness_todiscuss_in_interview_mapping={'yes' : 2, 'maybe' : 1, 'no' : 0,}\n",
        "#pastof_mentaldisorders_mapping={'yes' : 2, 'maybe' : 1, 'no' : 0,'possibly': 1, 'nan':0 , 'dont know': 1}\n",
        "#formal_discussions_current_mapping={'yes' : 2, \"i don't know\" : 1, 'no' : 0}\n",
        "#formal_discussion_mapping={\"i don't know\" : 1, 'yes, they all did' : 2, 'none did' : 0,'some did': 1}\n",
        "#Anonymity_protectionby_prev_mapping={\"i don't know\" : 1, 'yes, always' : 2, 'sometimes' : 1,'no': 1}\n",
        "#Anonymity_protection_mapping={\"i don't know\" : 1, 'yes' : 2, 'no' : 0,}\n",
        "#family_mapping={\"I don't know\" : 1, 'Yes' : 2, 'No' : 0,}\n",
        "#current_mental_disorder_mapping={'yes' : 1, 'maybe' : .6, 'no' : 0, 'possibly': .75, 'dont know': .5}\n",
        "# (can be multi classification)"
      ],
      "metadata": {
        "id": "2vjGjbgRpVsy"
      },
      "execution_count": null,
      "outputs": []
    },
    {
      "cell_type": "code",
      "source": [
        "df = pd.read_csv('/content/drive/MyDrive/modified_G.csv')\n",
        "df['company_tech/it'] = df['company_tech/it'].replace({'TRUE': 1, 'FALSE': 0})\n",
        "df.to_csv('/content/drive/MyDrive/modified_G.csv', index=False)"
      ],
      "metadata": {
        "id": "c5BdQiWMYiJQ"
      },
      "execution_count": null,
      "outputs": []
    },
    {
      "cell_type": "code",
      "source": [
        "data = pd.read_csv('/content/drive/MyDrive/modified_G.csv')\n",
        "data['Is your primary role within your company related to tech/IT?'] = data['Is your primary role within your company related to tech/IT?'].replace({'TRUE': 1, 'FALSE': 0})\n",
        "data.to_csv('/content/drive/MyDrive/modified_G.csv', index=False)"
      ],
      "metadata": {
        "id": "78OawgTHrwfo"
      },
      "execution_count": null,
      "outputs": []
    },
    {
      "cell_type": "code",
      "source": [
        "#file_path=\"/content/drive/MyDrive/modified_G.csv\"\n",
        "df=pd.read_csv('/content/drive/MyDrive/modified_G.csv')\n",
        "columns_to_delete=['no_of_employees','time_of_discussion']\n",
        "df=df.drop(columns=columns_to_delete)\n",
        "df.to_csv('/content/drive/MyDrive/modified_G.csv', index=False)"
      ],
      "metadata": {
        "id": "CFIyUVF8mWP5"
      },
      "execution_count": null,
      "outputs": []
    },
    {
      "cell_type": "markdown",
      "source": [
        "2.3 KNN-FILLING MISSING VALUES"
      ],
      "metadata": {
        "id": "3l3nFXSq4q_Y"
      }
    },
    {
      "cell_type": "code",
      "source": [
        "from sklearn.impute import KNNImputer\n",
        "import pandas as pd\n",
        "\n",
        "# Read the CSV file\n",
        "file_path = \"/content/drive/MyDrive/modified_G.csv\"\n",
        "final_dataset_encoded = pd.read_csv(file_path)\n",
        "\n",
        "# Save the column names before imputation\n",
        "columns_before_imputation = final_dataset_encoded.columns\n",
        "\n",
        "# Impute missing values using KNNImputer\n",
        "imputer = KNNImputer(n_neighbors=5)\n",
        "final_dataset_filled = pd.DataFrame(imputer.fit_transform(final_dataset_encoded), columns=columns_before_imputation)\n",
        "\n",
        "# Drop the index column before saving to CSV\n",
        "final_dataset_filled.to_csv(file_path, index=False)\n"
      ],
      "metadata": {
        "id": "tMzbaa4EuxA_"
      },
      "execution_count": null,
      "outputs": []
    },
    {
      "cell_type": "code",
      "source": [
        "import pandas as pd\n",
        "from sklearn.impute import KNNImputer\n",
        "data = pd.read_csv(\"/content/drive/MyDrive/modified_G.csv\")\n",
        "columns_with_missing = ['Is your primary role within your company related to tech/IT?', 'How many employees does your company or organization have?']  # Replace with your actual feature names\n",
        "n_neighbors = 5\n",
        "knn_imputer = KNNImputer(n_neighbors=n_neighbors)\n",
        "columns_to_impute = data[columns_with_missing]\n",
        "columns_imputed = knn_imputer.fit_transform(columns_to_impute)\n",
        "columns_imputed = pd.DataFrame(columns_imputed, columns=columns_with_missing)\n",
        "data[columns_with_missing] = columns_imputed\n",
        "data.to_csv(\"/content/drive/MyDrive/modified_G.csv\", index=False)\n"
      ],
      "metadata": {
        "id": "q90wT5eCvKsy"
      },
      "execution_count": null,
      "outputs": []
    },
    {
      "cell_type": "code",
      "source": [
        "import pandas as pd\n",
        "\n",
        "# File paths for each year\n",
        "file_paths = [\n",
        "    \"/content/drive/MyDrive/2016_ori.csv\",\n",
        "    \"/content/drive/MyDrive/2017_ori.csv\",\n",
        "    \"/content/drive/MyDrive/2018_ori.csv\",\n",
        "    \"/content/drive/MyDrive/2019_ori.csv\",\n",
        "    \"/content/drive/MyDrive/2020_ori.csv\",\n",
        "    \"/content/drive/MyDrive/2021_ori.csv\"\n",
        "]\n",
        "\n",
        "# Read data from each file into a list of DataFrames\n",
        "dataframes = [pd.read_csv(file_path) for file_path in file_paths]\n",
        "\n",
        "# Combine data vertically for one column (replace 'YourColumn' with the actual column name)\n",
        "column_name = 'Do you currently have a mental health disorder?'\n",
        "combined_data = pd.concat([data[[column_name]] for data in dataframes], axis=0, ignore_index=True)\n",
        "\n",
        "# Record rows containing null values in the combined data\n",
        "rows_with_null = combined_data[combined_data[column_name].isnull()]\n",
        "\n",
        "# Display rows with null values\n",
        "print(\"Rows with Null Values:\")\n",
        "print(rows_with_null)\n"
      ],
      "metadata": {
        "colab": {
          "base_uri": "https://localhost:8080/"
        },
        "id": "3kXO_fz2L1OO",
        "outputId": "15599f79-725f-4d7c-944b-709cb660b7d8"
      },
      "execution_count": null,
      "outputs": [
        {
          "output_type": "stream",
          "name": "stdout",
          "text": [
            "Rows with Null Values:\n",
            "Empty DataFrame\n",
            "Columns: [Do you currently have a mental health disorder?]\n",
            "Index: []\n"
          ]
        }
      ]
    },
    {
      "cell_type": "code",
      "source": [
        "import pandas as pd\n",
        "\n",
        "# List of your CSV file filenames\n",
        "file_names = [\"/content/drive/MyDrive/2016_ori.csv\", \"/content/drive/MyDrive/2017_ori.csv\", \"/content/drive/MyDrive/2018_ori.csv\", \"/content/drive/MyDrive/2019_ori.csv\", \"/content/drive/MyDrive/2020_ori.csv\", \"/content/drive/MyDrive/2021_ori.csv\"]\n",
        "\n",
        "# Create a list to store fields for each file\n",
        "fields_per_file = []\n",
        "\n",
        "# Loop through each CSV file\n",
        "for file_name in file_names:\n",
        "    # Read the CSV file into a DataFrame\n",
        "    df = pd.read_csv(file_name)\n",
        "\n",
        "    # Add the columns to the list for each file\n",
        "    fields_per_file.append(set(df.columns))\n",
        "\n",
        "# Print the list of common fields and their count\n",
        "common_fields = set.intersection(*fields_per_file)\n",
        "print(\"Common Fields:\")\n",
        "for field in common_fields:\n",
        "    print(field)\n",
        "\n",
        "print(\"\\nCount of Common Fields:\", len(common_fields))"
      ],
      "metadata": {
        "colab": {
          "base_uri": "https://localhost:8080/"
        },
        "id": "XdjCxLXnyq1Q",
        "outputId": "c0c1c603-5085-4a2c-94a3-9b9b54a1a00a"
      },
      "execution_count": null,
      "outputs": [
        {
          "output_type": "stream",
          "name": "stdout",
          "text": [
            "Common Fields:\n",
            "Have you ever sought treatment for a mental health disorder from a mental health professional?\n",
            "Do you have a family history of mental illness?\n",
            "Do you currently have a mental health disorder?\n",
            "If a mental health issue prompted you to request a medical leave from work, how easy or difficult would it be to ask for that leave?\n",
            "Have your previous employers provided mental health benefits?\n",
            "Reasons\n",
            "Has being identified as a person with a mental health issue affected your career?\n",
            "If you have been diagnosed or treated for a mental health disorder, do you ever reveal this to clients or business contacts?\n",
            "Do you know the options for mental health care available under your employer-provided health coverage?\n",
            "Is your primary role within your company related to tech/IT?\n",
            "Would you feel comfortable discussing a mental health issue with your coworkers?\n",
            "Do you know local or online resources to seek help for a mental health issue?\n",
            "What is your age?\n",
            "How willing would you be to share with friends and family that you have a mental illness?\n",
            "Does your employer provide mental health benefits as part of healthcare coverage?\n",
            "If you have a mental health disorder, how often do you feel that it interferes with your work when being treated effectively?\n",
            "Would you be willing to bring up a physical health issue with a potential employer in an interview?\n",
            "If you have a mental health issue, do you feel that it interferes with your work when NOT being treated effectively?\n",
            "Would you feel comfortable discussing a mental health issue with your direct supervisor(s)?\n",
            "If you have been diagnosed or treated for a mental health disorder, do you ever reveal this to coworkers or employees?\n",
            "Did your previous employers provide resources to learn more about mental health disorders and how to seek help?\n",
            "Have you observed or experienced an unsupportive or badly handled response to a mental health issue in your current or previous workplace?\n",
            "How many employees does your company or organization have?\n",
            "Has your employer ever formally discussed mental health (for example, as part of a wellness campaign or other official communication)?\n",
            "Does your employer offer resources to learn more about mental health disorders and options for seeking help?\n",
            "Area of Residence\n",
            "Were you aware of the options for mental health care provided by your previous employers?\n",
            "Are you self-employed?\n",
            "Have your observations of how another individual who discussed a mental health issue made you less likely to reveal a mental health issue yourself in your current workplace?\n",
            "Do you believe your productivity is ever affected by a mental health issue?\n",
            "Why or why not?\n",
            "Area of Work\n",
            "Is your anonymity protected if you choose to take advantage of mental health or substance abuse treatment resources provided by your employer?\n",
            "Do you have medical coverage (private insurance or state-provided) that includes treatment of mental health disorders?\n",
            "If yes, what percentage of your work time (time performing primary or secondary job functions) is affected by a mental health issue?\n",
            "Do you have previous employers?\n",
            "Was your anonymity protected if you chose to take advantage of mental health or substance abuse treatment resources with previous employers?\n",
            "Did your previous employers ever formally discuss mental health (as part of a wellness campaign or other official communication)?\n",
            "\n",
            "Count of Common Fields: 38\n"
          ]
        }
      ]
    },
    {
      "cell_type": "code",
      "source": [
        "\n",
        "# ADDING NEW COLUMNS\n",
        "# 1: Area of Residence and Area of Work\n",
        "import pandas as pd\n",
        "data=pd.read_csv(\"/content/drive/MyDrive/modified_G .csv\")\n",
        "file_paths=[\"/content/drive/MyDrive/2016_ori.csv\", \"/content/drive/MyDrive/2017_ori.csv\", \"/content/drive/MyDrive/2018_ori.csv\", \"/content/drive/MyDrive/2019_ori.csv\", \"/content/drive/MyDrive/2020_ori.csv\" , \"/content/drive/MyDrive/2021_ori.csv\"]\n",
        "dataframes=[pd.read_csv(file_path) for file_path in file_paths]\n",
        "result_df=pd.concat(dataframes, axis=0, ignore_index=True)\n",
        "columns_to_select=['If you have been diagnosed or treated for a mental health disorder, do you ever reveal this to coworkers or employees?']\n",
        "result_df=result_df[columns_to_select]\n",
        "data=pd.concat([data,result_df], axis=1)\n",
        "data.to_csv(\"/content/drive/MyDrive/modified_G .csv\", index=False)"
      ],
      "metadata": {
        "id": "6TpU_Pn03l-J"
      },
      "execution_count": null,
      "outputs": []
    },
    {
      "cell_type": "code",
      "source": [
        "null_count = data[\"Any_PreviousEmployers\"].isnull().sum()\n",
        "print(f\"The number of null values in column: {null_count}\")"
      ],
      "metadata": {
        "colab": {
          "base_uri": "https://localhost:8080/"
        },
        "id": "3LIv2q6hJ49p",
        "outputId": "8bbe9b8f-7b13-49f4-f483-150c4e83289a"
      },
      "execution_count": null,
      "outputs": [
        {
          "output_type": "stream",
          "name": "stdout",
          "text": [
            "The number of null values in column: 0\n"
          ]
        }
      ]
    },
    {
      "cell_type": "code",
      "source": [
        "#DELETING COLUMNS\n",
        "import pandas as pd\n",
        "data=pd.read_csv(\"/content/drive/MyDrive/modified_G .csv\")\n",
        "columns_to_delete=['Area of Residence.1',\"Area of Work.1\"]\n",
        "data=data.drop(columns_to_delete, axis=1)\n",
        "data.to_csv(\"/content/drive/MyDrive/modified_G .csv\", index=False)"
      ],
      "metadata": {
        "id": "a7xhqHJesZsn"
      },
      "execution_count": null,
      "outputs": []
    },
    {
      "cell_type": "code",
      "source": [
        "#RENAMING COLUMNS\n",
        "import pandas as pd\n",
        "\n",
        "# Read your combined data into a DataFrame (replace \"/content/drive/MyDrive/combined_data.csv\" with your actual file path)\n",
        "data = pd.read_csv(\"/content/drive/MyDrive/modified_G .csv\")\n",
        "\n",
        "# Define a dictionary with the old and new column names\n",
        "\n",
        "\n",
        "\n",
        "column_rename_mapping = {\n",
        "    #'Mental_Health_Benefits': 'Mental_Health_Benefits(PrevEmp)',\n",
        "    'If you have been diagnosed or treated for a mental health disorder, do you ever reveal this to coworkers or employees?': 'Reavealing_Disordersto_Cowerkers/employees',\n",
        "    # 'Did your previous employers provide resources to learn more about mental health disorders and how to seek help?': 'Resouces_by(PrevEmp)',\n",
        "    # 'Have you observed or experienced an unsupportive or badly handled response to a mental health issue in your current or previous workplace?': 'Unsupportive/Bad_Response',\n",
        "    #  'Does your employer offer resources to learn more about mental health disorders and options for seeking help?': 'Resources_by(CurrentEmp)',\n",
        "    # 'Were you aware of the options for mental health care provided by your previous employers?': 'Awarenesson_MentalCare(PrevEmp)',\n",
        "    # 'Have your observations of how another individual who discussed a mental health issue made you less likely to reveal a mental health issue yourself in your current workplace?': 'Effectonyou_ofPeople_Discussionof_MentalState',\n",
        "    # 'Do you have medical coverage (private insurance or state-provided) that includes treatment of mental health disorders?':'Any_MedicalCoverage_for_MentalHealth',\n",
        "    # 'Do you have previous employers?': 'Any_PreviousEmployers'\n",
        "}\n",
        "# Use the rename method to rename the columns\n",
        "data = data.rename(columns=column_rename_mapping)\n",
        "\n",
        "# Save the DataFrame with renamed columns to a new CSV file\n",
        "data.to_csv(\"/content/drive/MyDrive/modified_G .csv\", index=False)\n"
      ],
      "metadata": {
        "id": "4DqyeaYFa54-"
      },
      "execution_count": null,
      "outputs": []
    },
    {
      "cell_type": "code",
      "source": [
        "import pandas as pd\n",
        "\n",
        "# List of your CSV file filenames\n",
        "file_names = [\n",
        "    \"/content/drive/MyDrive/2016_ori.csv\",\n",
        "    \"/content/drive/MyDrive/2017_ori.csv\",\n",
        "    \"/content/drive/MyDrive/2018_ori.csv\",\n",
        "    \"/content/drive/MyDrive/2019_ori.csv\",\n",
        "    \"/content/drive/MyDrive/2020_ori.csv\",\n",
        "    \"/content/drive/MyDrive/2021_ori.csv\"\n",
        "]\n",
        "\n",
        "# Read the existing dataset into a DataFrame\n",
        "existing_dataset = pd.read_csv(\"/content/drive/MyDrive/modified_G.csv\")\n",
        "\n",
        "# List to store DataFrames for each file\n",
        "dfs = []\n",
        "\n",
        "# List to store filenames where the specified column is present\n",
        "files_with_column = []\n",
        "\n",
        "# Loop through each CSV file\n",
        "for file_name in file_names:\n",
        "    # Read the CSV file into a DataFrame\n",
        "    df = pd.read_csv(file_name)\n",
        "\n",
        "    # Check if the specified column is present in the current file\n",
        "    if 'Do you currently have a mental health disorder?' in df.columns:\n",
        "        files_with_column.append(file_name)\n",
        "\n",
        "    # Extract the relevant information from each year (replace with your logic)\n",
        "    new_column_data = df['Do you currently have a mental health disorder?']  # Replace 'Your_Column_Name' with the actual column name from each file\n",
        "\n",
        "    # Append the new column data to the list\n",
        "    dfs.append(new_column_data)\n",
        "\n",
        "# Concatenate the new column data vertically to the existing dataset\n",
        "existing_dataset['Do you currently have a mental health disorder?'] = pd.concat(dfs, axis=0, ignore_index=True)\n",
        "\n",
        "# Save the modified dataset to a new CSV file\n",
        "existing_dataset.to_csv(\"/content/drive/MyDrive/modified_G.csv\", index=False)\n",
        "\n",
        "# Print the filenames where the specified column is present\n",
        "print(\"Files with the specified column:\")\n",
        "for file_with_column in files_with_column:\n",
        "    print(file_with_column)\n"
      ],
      "metadata": {
        "id": "NSsAP4CowWyh",
        "colab": {
          "base_uri": "https://localhost:8080/"
        },
        "outputId": "e6336e30-1c44-4067-820a-fc57dac55ce0"
      },
      "execution_count": null,
      "outputs": [
        {
          "output_type": "stream",
          "name": "stdout",
          "text": [
            "Files with the specified column:\n",
            "/content/drive/MyDrive/2016_ori.csv\n",
            "/content/drive/MyDrive/2017_ori.csv\n",
            "/content/drive/MyDrive/2018_ori.csv\n",
            "/content/drive/MyDrive/2019_ori.csv\n",
            "/content/drive/MyDrive/2020_ori.csv\n",
            "/content/drive/MyDrive/2021_ori.csv\n"
          ]
        }
      ]
    },
    {
      "cell_type": "code",
      "source": [
        "import pandas as pd\n",
        "\n",
        "# Create a sample DataFrame\n",
        "# data = {'Column1': [1, 2, 3, 4, None, 6],\n",
        "#         'Column2': ['A', 'B', 'C', 'D', 'E', 'F']}\n",
        "df = pd.read_csv('/content/drive/MyDrive/modified_G.csv')\n",
        "\n",
        "# Display the original DataFrame\n",
        "# print(\"Original DataFrame:\")\n",
        "# print(df)\n",
        "\n",
        "# Specify the column where you want to delete rows with NaN entries\n",
        "column_name = 'Do you currently have a mental health disorder?'\n",
        "\n",
        "# Delete rows with NaN entries in the specified column\n",
        "df = df.dropna(subset=[column_name])\n",
        "\n",
        "# Display the DataFrame after deleting rows with NaN entries\n",
        "df.to_csv('/content/drive/MyDrive/modified_G.csv', index=False)\n"
      ],
      "metadata": {
        "id": "dFJJod9pMIZ4"
      },
      "execution_count": null,
      "outputs": []
    },
    {
      "cell_type": "code",
      "source": [
        "import pandas as pd\n",
        "\n",
        "# List of your CSV file filenames\n",
        "file_names = [\n",
        "    \"/content/drive/MyDrive/2016_ori.csv\",\n",
        "    \"/content/drive/MyDrive/2017_ori.csv\",\n",
        "    \"/content/drive/MyDrive/2018_ori.csv\",\n",
        "    \"/content/drive/MyDrive/2019_ori.csv\",\n",
        "    \"/content/drive/MyDrive/2020_ori.csv\",\n",
        "    \"/content/drive/MyDrive/2021_ori.csv\"\n",
        "]\n",
        "\n",
        "# Read the existing dataset into a DataFrame\n",
        "existing_dataset = pd.read_csv(\"/content/drive/MyDrive/modified_G.csv\")\n",
        "\n",
        "# List to store DataFrames for each file\n",
        "dfs = []\n",
        "\n",
        "# List to store filenames where the specified column is present\n",
        "files_with_column = []\n",
        "\n",
        "# Loop through each CSV file\n",
        "for file_name in file_names:\n",
        "    # Read the CSV file into a DataFrame\n",
        "    df = pd.read_csv(file_name)\n",
        "\n",
        "    # Check if the specified column is present in the current file\n",
        "    if 'Do you currently have a mental health disorder?' in df.columns:\n",
        "        files_with_column.append(file_name)\n",
        "\n",
        "    # Extract the relevant information from each year (replace with your logic)\n",
        "    new_column_data = df['Do you currently have a mental health disorder?']  # Replace 'Your_Column_Name' with the actual column name from each file\n",
        "\n",
        "    # Append the new column data to the list\n",
        "    dfs.append(new_column_data)\n",
        "\n",
        "# Concatenate the new column data vertically to the existing dataset\n",
        "existing_dataset['Do you currently have a mental health disorder?'] = pd.concat(dfs, axis=0, ignore_index=True)\n",
        "\n",
        "# Save the modified dataset to a new CSV file\n",
        "existing_dataset.to_csv(\"/content/drive/MyDrive/modified_G.csv\", index=False)\n",
        "\n",
        "# Print the filenames where the specified column is present\n",
        "print(\"Files with the specified column:\")\n",
        "for file_with_column in files_with_column:\n",
        "    print(file_with_column)\n"
      ],
      "metadata": {
        "id": "t8muH8LuIvYR"
      },
      "execution_count": null,
      "outputs": []
    },
    {
      "cell_type": "markdown",
      "source": [
        "**DETERMINING CLASS IMBALANCE**"
      ],
      "metadata": {
        "id": "D98RFdo0RKJ9"
      }
    },
    {
      "cell_type": "code",
      "source": [
        "import pandas as pd\n",
        "\n",
        "# Load your dataset\n",
        "df = pd.read_csv(\"/content/drive/MyDrive/modified_G.csv\")\n",
        "\n",
        "# Specify the name of the label column\n",
        "label_column = 'Do you currently have a mental health disorder?'\n",
        "\n",
        "# Count the occurrences of each class\n",
        "class_counts = df[label_column].value_counts()\n",
        "\n",
        "# Display the class counts\n",
        "print(class_counts)\n"
      ],
      "metadata": {
        "colab": {
          "base_uri": "https://localhost:8080/"
        },
        "id": "LpeAogfCRPhi",
        "outputId": "5fdd2460-39ea-48aa-d261-b11069a03cef"
      },
      "execution_count": null,
      "outputs": [
        {
          "output_type": "stream",
          "name": "stdout",
          "text": [
            "1    2030\n",
            "0    1077\n",
            "Name: Do you currently have a mental health disorder?, dtype: int64\n"
          ]
        }
      ]
    },
    {
      "cell_type": "code",
      "source": [
        "import pandas as pd\n",
        "\n",
        "# Assuming data is already loaded\n",
        "data = pd.read_csv(\"/content/drive/MyDrive/modified_G.csv\")\n",
        "\n",
        "# Add 'year' column based on specified ranges\n",
        "data['year'] = pd.cut(data.index,\n",
        "                     bins=[-1, 1432, 2188, 2605, 2957, 3137, 3269],\n",
        "                     labels=[2016, 2017, 2018, 2019, 2020, 2021])\n",
        "\n",
        "# Print counts of each year\n",
        "year_counts = data['year'].value_counts().sort_index()\n",
        "print(\"Counts of each year:\")\n",
        "print(year_counts)\n",
        "data.to_csv(\"/content/drive/MyDrive/modified_G.csv\", index=False)"
      ],
      "metadata": {
        "id": "t1iEEsMVR5Ja",
        "colab": {
          "base_uri": "https://localhost:8080/"
        },
        "outputId": "10f0c10c-348b-4b7c-ae1d-6ce9f8985d8c"
      },
      "execution_count": null,
      "outputs": [
        {
          "output_type": "stream",
          "name": "stdout",
          "text": [
            "Counts of each year:\n",
            "2016    1433\n",
            "2017     756\n",
            "2018     417\n",
            "2019     352\n",
            "2020     180\n",
            "2021     131\n",
            "Name: year, dtype: int64\n"
          ]
        }
      ]
    },
    {
      "cell_type": "code",
      "source": [],
      "metadata": {
        "colab": {
          "base_uri": "https://localhost:8080/"
        },
        "id": "mK1cUBvaSQNx",
        "outputId": "83f143d9-25de-4cbf-8fd4-8d8df9b805f5"
      },
      "execution_count": null,
      "outputs": [
        {
          "output_type": "stream",
          "name": "stdout",
          "text": [
            "Counts of each year:\n",
            "2016    1435\n",
            "2017     756\n",
            "2018     417\n",
            "2019     352\n",
            "2020     180\n",
            "2021     129\n",
            "Name: year, dtype: int64\n"
          ]
        }
      ]
    },
    {
      "cell_type": "code",
      "source": [
        "print(list(data.columns))\n",
        "print(len(data.columns))"
      ],
      "metadata": {
        "id": "ssdwP3XsS5_R",
        "colab": {
          "base_uri": "https://localhost:8080/"
        },
        "outputId": "d4483815-0fa6-4bdf-83e8-789e0fb430e1"
      },
      "execution_count": null,
      "outputs": [
        {
          "output_type": "stream",
          "name": "stdout",
          "text": [
            "['Area of Residence', 'Area of Work', 'num_of_employees', 'Do you currently have a mental health disorder?', 'Family_History', 'pastof_mentaldisorders', 'Gender', 'Age', 'company_tech/it', 'Willing_to_provide_info', 'willingness_todiscuss_in_interview', 'formal_discussions_current.emp', 'formal_discussion(prev_emp)', 'Anonymity_protectionby_prev.emp', 'Anonymity_protection(curr_emp)', 'role_relatedto_tech/it', 'year', 'Reasons', 'Proffesional_medical_treatment', 'Mental_Issue_Leaves_Accessibility', 'Mental_Health_Benefits(PrevEmp)', 'Effectof_identification_oncareer', 'Discussion_With_DirectSupervisors', 'Aware_abt_employer-provided health coverage', 'Discussion_with_Coworkers', 'HealthcareCoverageFacilities', 'Effectof_Disorder_onProductivity', 'Resouces_by(PrevEmp)', 'Unsupportive/Bad_Response', 'Resources_by(CurrentEmp)', 'Awarenesson_MentalCare(PrevEmp)', 'Effectonyou_ofPeople_Discussionof_MentalState', 'Any_PreviousEmployers']\n",
            "33\n"
          ]
        }
      ]
    },
    {
      "cell_type": "code",
      "source": [],
      "metadata": {
        "id": "WjCpw1eXObJx"
      },
      "execution_count": null,
      "outputs": []
    }
  ]
}